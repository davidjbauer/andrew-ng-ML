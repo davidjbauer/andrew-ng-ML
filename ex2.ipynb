{
 "cells": [
  {
   "cell_type": "code",
   "execution_count": 198,
   "metadata": {},
   "outputs": [],
   "source": [
    "import numpy as np\n",
    "import pandas as pd\n",
    "import matplotlib.pyplot as plt\n",
    "from scipy.optimize import fmin,fmin_bfgs,basinhopping,fmin_powell"
   ]
  },
  {
   "cell_type": "code",
   "execution_count": 248,
   "metadata": {},
   "outputs": [
    {
     "name": "stdout",
     "output_type": "stream",
     "text": [
      "100\n"
     ]
    }
   ],
   "source": [
    "ex2data1 = pd.read_csv(\"ex2data1.txt\",header=None,names=['exam1','exam2','admitted'])\n",
    "ex2data1['pad'] =1\n",
    "num_samples = ex2data1.shape[0]\n",
    "print(num_samples)"
   ]
  },
  {
   "cell_type": "code",
   "execution_count": 249,
   "metadata": {},
   "outputs": [
    {
     "data": {
      "text/plain": [
       "<matplotlib.collections.PathCollection at 0x115c6af28>"
      ]
     },
     "execution_count": 249,
     "metadata": {},
     "output_type": "execute_result"
    },
    {
     "data": {
      "image/png": "[encoded data removed]",
      "text/plain": [
       "<Figure size 432x288 with 1 Axes>"
      ]
     },
     "metadata": {},
     "output_type": "display_data"
    }
   ],
   "source": [
    "plt.scatter(ex2data1[ex2data1.admitted == True]['exam1'],\n",
    "            ex2data1[ex2data1.admitted == True]['exam2'],\n",
    "            color='red')\n",
    "plt.scatter(ex2data1[ex2data1.admitted == False]['exam1'],\n",
    "            ex2data1[ex2data1.admitted == False]['exam2'],\n",
    "            color='blue',marker=\"X\")"
   ]
  },
  {
   "cell_type": "code",
   "execution_count": 245,
   "metadata": {},
   "outputs": [],
   "source": [
    "def sigmoid(x):\n",
    "    return 1.0/(1 + np.exp(-x))"
   ]
  },
  {
   "cell_type": "code",
   "execution_count": 246,
   "metadata": {},
   "outputs": [],
   "source": [
    "def h(theta,x):\n",
    "    return sigmoid(x.dot(theta))"
   ]
  },
  {
   "cell_type": "code",
   "execution_count": 256,
   "metadata": {},
   "outputs": [],
   "source": [
    "y_array = ex2data1['admitted'].values\n",
    "X_array = ex2data1[['pad','exam1','exam2']].values"
   ]
  },
  {
   "cell_type": "code",
   "execution_count": 281,
   "metadata": {},
   "outputs": [],
   "source": [
    "def cost(theta,X,y):\n",
    "    return 1/num_samples*(-y.dot(np.log(h(theta,X))) - (1-y).dot(np.log1p(-h(theta,X))))"
   ]
  },
  {
   "cell_type": "code",
   "execution_count": 282,
   "metadata": {
    "scrolled": true
   },
   "outputs": [
    {
     "data": {
      "text/plain": [
       "0.6931471805599453"
      ]
     },
     "execution_count": 282,
     "metadata": {},
     "output_type": "execute_result"
    }
   ],
   "source": [
    "cost(np.zeros(3),X_array,y_array)"
   ]
  },
  {
   "cell_type": "code",
   "execution_count": 273,
   "metadata": {},
   "outputs": [],
   "source": [
    "def gradient(theta):\n",
    "    return 1/num_samples*(y_array - h(theta,X_array)).dot(X_array)"
   ]
  },
  {
   "cell_type": "code",
   "execution_count": 283,
   "metadata": {},
   "outputs": [
    {
     "name": "stdout",
     "output_type": "stream",
     "text": [
      "Optimization terminated successfully.\n",
      "         Current function value: 0.203498\n",
      "         Iterations: 157\n",
      "         Function evaluations: 287\n"
     ]
    }
   ],
   "source": [
    "theta_min = fmin(lambda z: cost(z,X_array,y_array),np.zeros(3),maxiter=400)"
   ]
  },
  {
   "cell_type": "code",
   "execution_count": 289,
   "metadata": {},
   "outputs": [],
   "source": [
    "def predict(theta,X):\n",
    "    return np.ceil(h(theta,X)-0.5)"
   ]
  },
  {
   "cell_type": "code",
   "execution_count": 345,
   "metadata": {},
   "outputs": [
    {
     "data": {
      "text/plain": [
       "0.89"
      ]
     },
     "execution_count": 345,
     "metadata": {},
     "output_type": "execute_result"
    }
   ],
   "source": [
    "accuracy = np.sum(np.isclose(predict(theta_min,X_array),y_array).astype(int))/num_samples\n",
    "accuracy"
   ]
  },
  {
   "cell_type": "markdown",
   "metadata": {},
   "source": [
    "Decision boundary is given by $\\hat\\theta_0 + \\hat\\theta_1 x_1 + \\hat\\theta_2 x_2 = 0$, where $\\hat\\theta = \\text{argmin}\\, J(\\mathbf{\\theta})$"
   ]
  },
  {
   "cell_type": "code",
   "execution_count": 347,
   "metadata": {},
   "outputs": [],
   "source": [
    "x_bdry = np.arange(30,100)\n",
    "y_bdry = -1/theta_min[2]*(theta_min[0] + theta_min[1]*x_vals)"
   ]
  },
  {
   "cell_type": "code",
   "execution_count": 348,
   "metadata": {},
   "outputs": [
    {
     "data": {
      "text/plain": [
       "[<matplotlib.lines.Line2D at 0x116221b38>]"
      ]
     },
     "execution_count": 348,
     "metadata": {},
     "output_type": "execute_result"
    },
    {
     "data": {
      "image/png": "[encoded data removed]",
      "text/plain": [
       "<Figure size 432x288 with 1 Axes>"
      ]
     },
     "metadata": {},
     "output_type": "display_data"
    }
   ],
   "source": [
    "plt.scatter(ex2data1[ex2data1.admitted == True]['exam1'],\n",
    "            ex2data1[ex2data1.admitted == True]['exam2'],\n",
    "            color='red')\n",
    "plt.scatter(ex2data1[ex2data1.admitted == False]['exam1'],\n",
    "            ex2data1[ex2data1.admitted == False]['exam2'],\n",
    "            color='blue',marker=\"X\")\n",
    "plt.plot(x_bdry,y_bdry)"
   ]
  },
  {
   "cell_type": "code",
   "execution_count": 349,
   "metadata": {},
   "outputs": [],
   "source": [
    "def cost_reg(theta,X,y,reg_lambda):\n",
    "    log_loss = -y.dot(np.log(h(theta,X))) - (1-y).dot(np.log1p(-h(theta,X)))\n",
    "    reg_term = 0.5*reg_lambda*np.sum(theta[1:])\n",
    "    return 1/num_samples*(log_loss + reg_term)"
   ]
  },
  {
   "cell_type": "code",
   "execution_count": 350,
   "metadata": {},
   "outputs": [
    {
     "name": "stdout",
     "output_type": "stream",
     "text": [
      "Optimization terminated successfully.\n",
      "         Current function value: 0.205525\n",
      "         Iterations: 171\n",
      "         Function evaluations: 305\n"
     ]
    }
   ],
   "source": [
    "theta_min_reg = fmin(lambda z: cost_reg(z,X_array,y_array,1),np.zeros(3),maxiter=400)"
   ]
  },
  {
   "cell_type": "code",
   "execution_count": null,
   "metadata": {},
   "outputs": [],
   "source": []
  }
 ],
 "metadata": {
  "kernelspec": {
   "display_name": "Python 3",
   "language": "python",
   "name": "python3"
  },
  "language_info": {
   "codemirror_mode": {
    "name": "ipython",
    "version": 3
   },
   "file_extension": ".py",
   "mimetype": "text/x-python",
   "name": "python",
   "nbconvert_exporter": "python",
   "pygments_lexer": "ipython3",
   "version": "3.5.5"
  }
 },
 "nbformat": 4,
 "nbformat_minor": 2
}
