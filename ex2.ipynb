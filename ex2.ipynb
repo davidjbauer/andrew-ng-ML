{
 "cells": [
  {
   "cell_type": "code",
   "execution_count": 172,
   "metadata": {},
   "outputs": [],
   "source": [
    "import numpy as np\n",
    "import pandas as pd\n",
    "import matplotlib.pyplot as plt\n",
    "from scipy.optimize import fmin,fmin_bfgs"
   ]
  },
  {
   "cell_type": "code",
   "execution_count": 197,
   "metadata": {},
   "outputs": [
    {
     "name": "stdout",
     "output_type": "stream",
     "text": [
      "100\n"
     ]
    }
   ],
   "source": [
    "ex2data1 = pd.read_csv(\"ex2data1.txt\",header=None,names=['exam1','exam2','admitted'])\n",
    "ex2data1['pad'] =1\n",
    "ex2data2 = pd.read_csv(\"ex2data2.txt\",header=None,names=['test1','test2','accepted'])\n",
    "ex2data2['pad'] =1\n",
    "num_samples = ex2data1.shape[0]\n",
    "print(num_samples)"
   ]
  },
  {
   "cell_type": "code",
   "execution_count": 174,
   "metadata": {},
   "outputs": [
    {
     "data": {
      "text/plain": [
       "<matplotlib.collections.PathCollection at 0x112e25da0>"
      ]
     },
     "execution_count": 174,
     "metadata": {},
     "output_type": "execute_result"
    },
    {
     "data": {
      "image/png": "[encoded data removed]",
      "text/plain": [
       "<Figure size 432x288 with 1 Axes>"
      ]
     },
     "metadata": {},
     "output_type": "display_data"
    }
   ],
   "source": [
    "plt.scatter(ex2data1[ex2data1.admitted == True]['exam1'],\n",
    "            ex2data1[ex2data1.admitted == True]['exam2'],\n",
    "            color='red')\n",
    "plt.scatter(ex2data1[ex2data1.admitted == False]['exam1'],\n",
    "            ex2data1[ex2data1.admitted == False]['exam2'],\n",
    "            color='blue',marker=\"X\")"
   ]
  },
  {
   "cell_type": "code",
   "execution_count": 175,
   "metadata": {},
   "outputs": [],
   "source": [
    "def sigmoid(x):\n",
    "    return 1.0/(1 + np.exp(-x))"
   ]
  },
  {
   "cell_type": "code",
   "execution_count": 176,
   "metadata": {},
   "outputs": [],
   "source": [
    "def h(theta,x):\n",
    "    return sigmoid(x.dot(theta))"
   ]
  },
  {
   "cell_type": "code",
   "execution_count": 177,
   "metadata": {},
   "outputs": [],
   "source": [
    "y_array = ex2data1['admitted'].values\n",
    "X_array = ex2data1[['pad','exam1','exam2']].values"
   ]
  },
  {
   "cell_type": "code",
   "execution_count": 178,
   "metadata": {},
   "outputs": [],
   "source": [
    "def cost(theta,X,y):\n",
    "    return 1/num_samples*(-y.dot(np.log(h(theta,X))) - (1-y).dot(np.log1p(-h(theta,X))))"
   ]
  },
  {
   "cell_type": "code",
   "execution_count": 179,
   "metadata": {
    "scrolled": true
   },
   "outputs": [
    {
     "data": {
      "text/plain": [
       "0.6931471805599453"
      ]
     },
     "execution_count": 179,
     "metadata": {},
     "output_type": "execute_result"
    }
   ],
   "source": [
    "cost(np.zeros(3),X_array,y_array)"
   ]
  },
  {
   "cell_type": "code",
   "execution_count": 180,
   "metadata": {},
   "outputs": [],
   "source": [
    "def gradient(theta):\n",
    "    return 1/num_samples*(y_array - h(theta,X_array)).dot(X_array)"
   ]
  },
  {
   "cell_type": "code",
   "execution_count": 181,
   "metadata": {},
   "outputs": [
    {
     "name": "stdout",
     "output_type": "stream",
     "text": [
      "Optimization terminated successfully.\n",
      "         Current function value: 0.203498\n",
      "         Iterations: 157\n",
      "         Function evaluations: 287\n"
     ]
    }
   ],
   "source": [
    "theta_min = fmin(lambda z: cost(z,X_array,y_array),np.zeros(3),maxiter=400)"
   ]
  },
  {
   "cell_type": "code",
   "execution_count": 182,
   "metadata": {},
   "outputs": [],
   "source": [
    "def predict(theta,X):\n",
    "    return np.ceil(h(theta,X)-0.5)"
   ]
  },
  {
   "cell_type": "code",
   "execution_count": 183,
   "metadata": {},
   "outputs": [
    {
     "data": {
      "text/plain": [
       "0.89"
      ]
     },
     "execution_count": 183,
     "metadata": {},
     "output_type": "execute_result"
    }
   ],
   "source": [
    "accuracy = np.sum(np.isclose(predict(theta_min,X_array),y_array).astype(int))/num_samples\n",
    "accuracy"
   ]
  },
  {
   "cell_type": "markdown",
   "metadata": {},
   "source": [
    "Decision boundary is given by $\\hat\\theta_0 + \\hat\\theta_1 x_1 + \\hat\\theta_2 x_2 = 0$, where $\\hat\\theta = \\text{argmin}\\, J(\\mathbf{\\theta})$"
   ]
  },
  {
   "cell_type": "code",
   "execution_count": 184,
   "metadata": {},
   "outputs": [],
   "source": [
    "x_bdry = np.arange(30,100)\n",
    "y_bdry = -1/theta_min[2]*(theta_min[0] + theta_min[1]*x_bdry)"
   ]
  },
  {
   "cell_type": "code",
   "execution_count": 185,
   "metadata": {},
   "outputs": [
    {
     "data": {
      "text/plain": [
       "[<matplotlib.lines.Line2D at 0x112e8add8>]"
      ]
     },
     "execution_count": 185,
     "metadata": {},
     "output_type": "execute_result"
    },
    {
     "data": {
      "image/png": "[encoded data removed]",
      "text/plain": [
       "<Figure size 432x288 with 1 Axes>"
      ]
     },
     "metadata": {},
     "output_type": "display_data"
    }
   ],
   "source": [
    "plt.scatter(ex2data1[ex2data1.admitted == True]['exam1'],\n",
    "            ex2data1[ex2data1.admitted == True]['exam2'],\n",
    "            color='red')\n",
    "plt.scatter(ex2data1[ex2data1.admitted == False]['exam1'],\n",
    "            ex2data1[ex2data1.admitted == False]['exam2'],\n",
    "            color='blue',marker=\"X\")\n",
    "plt.plot(x_bdry,y_bdry)"
   ]
  },
  {
   "cell_type": "code",
   "execution_count": 203,
   "metadata": {},
   "outputs": [
    {
     "data": {
      "text/plain": [
       "<matplotlib.collections.PathCollection at 0x113088080>"
      ]
     },
     "execution_count": 203,
     "metadata": {},
     "output_type": "execute_result"
    },
    {
     "data": {
      "image/png": "[encoded data removed]",
      "text/plain": [
       "<Figure size 432x288 with 1 Axes>"
      ]
     },
     "metadata": {},
     "output_type": "display_data"
    }
   ],
   "source": [
    "X2_array = ex2data2[['pad','test1','test2']].values\n",
    "y2_array = ex2data2['accepted'].values\n",
    "plt.scatter(ex2data2[ex2data2.accepted == True]['test1'],\n",
    "            ex2data2[ex2data2.accepted == True]['test2'],\n",
    "            color='red')\n",
    "plt.scatter(ex2data2[ex2data2.accepted == False]['test1'],\n",
    "            ex2data2[ex2data2.accepted == False]['test2'],\n",
    "            color='blue',marker=\"X\")"
   ]
  },
  {
   "cell_type": "code",
   "execution_count": 208,
   "metadata": {},
   "outputs": [],
   "source": [
    "def cost_reg(theta,X,y,reg_lambda):\n",
    "    log_loss = -y.dot(np.log(h(theta,X))) - (1-y).dot(np.log1p(-h(theta,X)))\n",
    "    reg_term = 0.5*reg_lambda*np.sum(np.power(theta[1:],2))\n",
    "    return 1/num_samples*(log_loss + reg_term)"
   ]
  },
  {
   "cell_type": "code",
   "execution_count": 209,
   "metadata": {},
   "outputs": [
    {
     "name": "stdout",
     "output_type": "stream",
     "text": [
      "Optimization terminated successfully.\n",
      "         Current function value: 0.814888\n",
      "         Iterations: 104\n",
      "         Function evaluations: 181\n"
     ]
    }
   ],
   "source": [
    "theta_min_reg = fmin(lambda z: cost_reg(z,X2_array,y2_array,1),np.zeros(3),maxiter=400)"
   ]
  },
  {
   "cell_type": "code",
   "execution_count": 188,
   "metadata": {},
   "outputs": [],
   "source": [
    "def feature_map(X,d):\n",
    "    x1 = X[:,0]\n",
    "    x2 = X[:,1]\n",
    "    tmp_array = np.ones((x1.shape[0],int((d+1)*(d+2)/2)))\n",
    "    for i in range(d+1):\n",
    "        for j in range(i+1):\n",
    "            tmp_array[:,int(i*(i+1)/2+j)] = np.multiply(np.power(x1,i-j),np.power(x2,j))\n",
    "    return tmp_array"
   ]
  },
  {
   "cell_type": "code",
   "execution_count": 215,
   "metadata": {},
   "outputs": [
    {
     "data": {
      "text/plain": [
       "(118, 28)"
      ]
     },
     "execution_count": 215,
     "metadata": {},
     "output_type": "execute_result"
    }
   ],
   "source": [
    "X2_mapped = feature_map(X2_array[:,1:],6)\n",
    "X2_mapped.shape"
   ]
  },
  {
   "cell_type": "code",
   "execution_count": 221,
   "metadata": {},
   "outputs": [
    {
     "name": "stdout",
     "output_type": "stream",
     "text": [
      "Optimization terminated successfully.\n",
      "         Current function value: 0.573466\n",
      "         Iterations: 15297\n",
      "         Function evaluations: 18206\n"
     ]
    }
   ],
   "source": [
    "theta_min_mapped = fmin(lambda z: cost_reg(z,X2_mapped,y2_array,0.1),np.zeros(28),maxiter=20000)"
   ]
  },
  {
   "cell_type": "code",
   "execution_count": 219,
   "metadata": {},
   "outputs": [
    {
     "name": "stdout",
     "output_type": "stream",
     "text": [
      "Optimization terminated successfully.\n",
      "         Current function value: 0.788901\n",
      "         Iterations: 14062\n",
      "         Function evaluations: 16847\n"
     ]
    }
   ],
   "source": [
    "theta_min_mapped = fmin(lambda z: cost_reg(z,X2_mapped,y2_array,10),np.zeros(28),maxiter=20000)"
   ]
  },
  {
   "cell_type": "markdown",
   "metadata": {},
   "source": [
    "I'm guessing the above would be faster providing gradients to fmin...\n",
    "Need to work on plotting non-linear decision boundary"
   ]
  },
  {
   "cell_type": "code",
   "execution_count": null,
   "metadata": {},
   "outputs": [],
   "source": []
  }
 ],
 "metadata": {
  "kernelspec": {
   "display_name": "Python 3",
   "language": "python",
   "name": "python3"
  },
  "language_info": {
   "codemirror_mode": {
    "name": "ipython",
    "version": 3
   },
   "file_extension": ".py",
   "mimetype": "text/x-python",
   "name": "python",
   "nbconvert_exporter": "python",
   "pygments_lexer": "ipython3",
   "version": "3.7.0"
  }
 },
 "nbformat": 4,
 "nbformat_minor": 2
}
