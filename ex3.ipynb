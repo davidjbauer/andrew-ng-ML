{
 "cells": [
  {
   "cell_type": "code",
   "execution_count": 26,
   "metadata": {},
   "outputs": [],
   "source": [
    "import numpy as np\n",
    "import pandas as pd\n",
    "import matplotlib.pyplot as plt\n",
    "import scipy.io, scipy.optimize, scipy.special"
   ]
  },
  {
   "cell_type": "markdown",
   "metadata": {},
   "source": [
    "Part 1: Multi-class classification — using one-vs-all logistic regression to classify MNIST data."
   ]
  },
  {
   "cell_type": "code",
   "execution_count": 27,
   "metadata": {},
   "outputs": [],
   "source": [
    "def h(theta,x):\n",
    "    return sigmoid(x.dot(theta))"
   ]
  },
  {
   "cell_type": "code",
   "execution_count": 28,
   "metadata": {
    "scrolled": true
   },
   "outputs": [],
   "source": [
    "ex3data1 = scipy.io.loadmat(\"ex3data1.mat\")\n",
    "X_ex3data = ex3data1['X']\n",
    "y_ex3data = ex3data1['y'].reshape(5000)\n",
    "X_bitmap = X_ex3data.reshape(5000,20,20,order='F')"
   ]
  },
  {
   "cell_type": "markdown",
   "metadata": {},
   "source": [
    "Let's plot some examples of the data"
   ]
  },
  {
   "cell_type": "code",
   "execution_count": 139,
   "metadata": {},
   "outputs": [],
   "source": [
    "def plot_digit(n):\n",
    "    plt.figure(figsize=(2,2))\n",
    "    plt.imshow(X_bitmap[n],cmap='binary',interpolation='bicubic')"
   ]
  },
  {
   "cell_type": "code",
   "execution_count": 140,
   "metadata": {},
   "outputs": [
    {
     "data": {
      "image/png": "[encoded data removed]",
      "text/plain": [
       "<Figure size 144x144 with 1 Axes>"
      ]
     },
     "metadata": {},
     "output_type": "display_data"
    },
    {
     "data": {
      "image/png": "[encoded data removed]",
      "text/plain": [
       "<Figure size 144x144 with 1 Axes>"
      ]
     },
     "metadata": {},
     "output_type": "display_data"
    },
    {
     "data": {
      "image/png": "[encoded data removed]",
      "text/plain": [
       "<Figure size 144x144 with 1 Axes>"
      ]
     },
     "metadata": {},
     "output_type": "display_data"
    },
    {
     "data": {
      "image/png": "[encoded data removed]",
      "text/plain": [
       "<Figure size 144x144 with 1 Axes>"
      ]
     },
     "metadata": {},
     "output_type": "display_data"
    }
   ],
   "source": [
    "for i in np.random.randint(0,4999,4):\n",
    "    plot_digit(i)"
   ]
  },
  {
   "cell_type": "code",
   "execution_count": 31,
   "metadata": {},
   "outputs": [],
   "source": [
    "def h(theta,x):\n",
    "    return scipy.special.expit(x.dot(theta))"
   ]
  },
  {
   "cell_type": "code",
   "execution_count": 32,
   "metadata": {},
   "outputs": [],
   "source": [
    "def cost(theta,X,y):\n",
    "    m = X.shape[0]\n",
    "    return 1/m*(-y.dot(np.log(h(theta,X))) - (1-y).dot(np.log1p(-h(theta,X))))"
   ]
  },
  {
   "cell_type": "code",
   "execution_count": 33,
   "metadata": {},
   "outputs": [],
   "source": [
    "def cost_gradient(theta,X,y):\n",
    "    m = X.shape[0]\n",
    "    return 1/m*(h(theta,X) - y).dot(X)"
   ]
  },
  {
   "cell_type": "code",
   "execution_count": 34,
   "metadata": {},
   "outputs": [],
   "source": [
    "def cost_reg(theta,X,y,reg_lambda):\n",
    "    m = X.shape[0]\n",
    "    log_loss = -y.dot(np.log(h(theta,X))) - (1-y).dot(np.log1p(-h(theta,X)))\n",
    "    reg_term = 0.5*reg_lambda*np.sum(np.power(theta[1:],2))\n",
    "    return 1/m*(log_loss + reg_term)"
   ]
  },
  {
   "cell_type": "code",
   "execution_count": 35,
   "metadata": {},
   "outputs": [],
   "source": [
    "def cost_gradient_reg(theta,X,y,reg_lambda):\n",
    "    m = X.shape[0]\n",
    "    theta_tmp = np.insert(theta[1:],0,0)\n",
    "    return 1/m*((h(theta,X) - y).dot(X) + reg_lambda*theta_tmp)"
   ]
  },
  {
   "cell_type": "code",
   "execution_count": 101,
   "metadata": {},
   "outputs": [],
   "source": [
    "def one_vs_all_fit(k,X,y,reg_lambda):\n",
    "    num_features = X.shape[1]\n",
    "    param_matrix = np.zeros((k,num_features))\n",
    "    for i in range(1,k+1):\n",
    "        class_y = np.equal(y,i)\n",
    "        print(\"Fitting class \" + str(i))\n",
    "        param_matrix[i-1] = scipy.optimize.fmin_cg(lambda z: cost_reg(z,X,class_y,reg_lambda),\n",
    "                                                   param_matrix[i-1],\n",
    "                                                   lambda z: cost_gradient_reg(z,X,class_y,reg_lambda))\n",
    "    return param_matrix"
   ]
  },
  {
   "cell_type": "code",
   "execution_count": 102,
   "metadata": {
    "scrolled": true
   },
   "outputs": [
    {
     "name": "stdout",
     "output_type": "stream",
     "text": [
      "Fitting class 1\n",
      "Optimization terminated successfully.\n",
      "         Current function value: 0.027978\n",
      "         Iterations: 64\n",
      "         Function evaluations: 224\n",
      "         Gradient evaluations: 224\n",
      "Fitting class 2\n",
      "Optimization terminated successfully.\n",
      "         Current function value: 0.073193\n",
      "         Iterations: 100\n",
      "         Function evaluations: 289\n",
      "         Gradient evaluations: 289\n",
      "Fitting class 3\n",
      "Optimization terminated successfully.\n",
      "         Current function value: 0.083249\n",
      "         Iterations: 103\n",
      "         Function evaluations: 280\n",
      "         Gradient evaluations: 280\n",
      "Fitting class 4\n",
      "Optimization terminated successfully.\n",
      "         Current function value: 0.053687\n",
      "         Iterations: 84\n",
      "         Function evaluations: 253\n",
      "         Gradient evaluations: 253\n",
      "Fitting class 5\n",
      "Optimization terminated successfully.\n",
      "         Current function value: 0.076876\n",
      "         Iterations: 117\n",
      "         Function evaluations: 326\n",
      "         Gradient evaluations: 326\n",
      "Fitting class 6\n",
      "Optimization terminated successfully.\n",
      "         Current function value: 0.037716\n",
      "         Iterations: 80\n",
      "         Function evaluations: 263\n",
      "         Gradient evaluations: 263\n",
      "Fitting class 7\n",
      "Optimization terminated successfully.\n",
      "         Current function value: 0.047902\n",
      "         Iterations: 85\n",
      "         Function evaluations: 270\n",
      "         Gradient evaluations: 270\n",
      "Fitting class 8\n",
      "Optimization terminated successfully.\n",
      "         Current function value: 0.135315\n",
      "         Iterations: 151\n",
      "         Function evaluations: 376\n",
      "         Gradient evaluations: 376\n",
      "Fitting class 9\n",
      "Optimization terminated successfully.\n",
      "         Current function value: 0.102400\n",
      "         Iterations: 115\n",
      "         Function evaluations: 298\n",
      "         Gradient evaluations: 298\n",
      "Fitting class 10\n",
      "Optimization terminated successfully.\n",
      "         Current function value: 0.025740\n",
      "         Iterations: 62\n",
      "         Function evaluations: 204\n",
      "         Gradient evaluations: 204\n"
     ]
    }
   ],
   "source": [
    "theta_min_matrix = one_vs_all(10,X_ex3data,y_ex3data,1)"
   ]
  },
  {
   "cell_type": "code",
   "execution_count": 132,
   "metadata": {},
   "outputs": [],
   "source": [
    "def one_vs_all_predict(k,theta_matrix,x):\n",
    "    prediction = np.zeros(x.shape[0])\n",
    "    prob = np.zeros(x.shape[0])\n",
    "    for i in range(1,k+1):\n",
    "        tmp_theta = theta_matrix[i-1]\n",
    "        tmp_prob = h(tmp_theta,x)\n",
    "        prediction[np.nonzero(tmp_prob > prob)] = i\n",
    "        prob = np.maximum(prob,tmp_prob)\n",
    "    return prediction,prob"
   ]
  },
  {
   "cell_type": "code",
   "execution_count": 133,
   "metadata": {},
   "outputs": [
    {
     "data": {
      "text/plain": [
       "(array([3., 5., 4., 4.]),\n",
       " array([0.96407714, 0.76673607, 0.92006075, 0.99896369]))"
      ]
     },
     "execution_count": 133,
     "metadata": {},
     "output_type": "execute_result"
    }
   ],
   "source": [
    "one_vs_all_predict(10,theta_min_matrix,X_ex3data[1998:2002])"
   ]
  },
  {
   "cell_type": "code",
   "execution_count": 141,
   "metadata": {},
   "outputs": [
    {
     "data": {
      "image/png": "[encoded data removed]",
      "text/plain": [
       "<Figure size 144x144 with 1 Axes>"
      ]
     },
     "metadata": {},
     "output_type": "display_data"
    },
    {
     "data": {
      "image/png": "[encoded data removed]",
      "text/plain": [
       "<Figure size 144x144 with 1 Axes>"
      ]
     },
     "metadata": {},
     "output_type": "display_data"
    },
    {
     "data": {
      "image/png": "[encoded data removed]",
      "text/plain": [
       "<Figure size 144x144 with 1 Axes>"
      ]
     },
     "metadata": {},
     "output_type": "display_data"
    },
    {
     "data": {
      "image/png": "[encoded data removed]",
      "text/plain": [
       "<Figure size 144x144 with 1 Axes>"
      ]
     },
     "metadata": {},
     "output_type": "display_data"
    }
   ],
   "source": [
    "plot_digit(1998)\n",
    "plot_digit(1999)\n",
    "plot_digit(2000)\n",
    "plot_digit(2001)"
   ]
  },
  {
   "cell_type": "code",
   "execution_count": 136,
   "metadata": {},
   "outputs": [],
   "source": [
    "def one_vs_all_accuracy(k,theta,X,y):\n",
    "    predicted = one_vs_all_predict(k,theta,X)\n",
    "    return np.mean(np.isclose(predicted[0],y))"
   ]
  },
  {
   "cell_type": "code",
   "execution_count": 137,
   "metadata": {},
   "outputs": [
    {
     "data": {
      "text/plain": [
       "0.9412"
      ]
     },
     "execution_count": 137,
     "metadata": {},
     "output_type": "execute_result"
    }
   ],
   "source": [
    "one_vs_all_accuracy(10,theta_min_matrix,X_ex3data,y_ex3data)"
   ]
  },
  {
   "cell_type": "markdown",
   "metadata": {},
   "source": [
    "Part 2: Implementing feedforward neural network with pre-trained weights"
   ]
  },
  {
   "cell_type": "code",
   "execution_count": 142,
   "metadata": {},
   "outputs": [],
   "source": [
    "ex3weights = scipy.io.loadmat(\"ex3weights.mat\")"
   ]
  },
  {
   "cell_type": "code",
   "execution_count": 145,
   "metadata": {},
   "outputs": [],
   "source": [
    "Theta1,Theta2 = ex3weights['Theta1'],ex3weights['Theta2']"
   ]
  },
  {
   "cell_type": "code",
   "execution_count": 147,
   "metadata": {},
   "outputs": [
    {
     "name": "stdout",
     "output_type": "stream",
     "text": [
      "(25, 401)\n",
      "(10, 26)\n"
     ]
    }
   ],
   "source": [
    "print(Theta1.shape)\n",
    "print(Theta2.shape)"
   ]
  },
  {
   "cell_type": "code",
   "execution_count": 215,
   "metadata": {},
   "outputs": [],
   "source": [
    "def nn_predict(theta1,theta2,x):\n",
    "    # input layer: add bias node to input data\n",
    "    a1 = np.insert(x,0,1,axis=1)\n",
    "    # hidden layer: compute activation function and add bias\n",
    "    z2 = a1.dot(theta1.transpose())\n",
    "    a2 = np.insert(scipy.special.expit(z2),0,1,axis=1)\n",
    "    # output layer\n",
    "    a3 = scipy.special.expit(a2.dot(theta2.transpose()))\n",
    "    return a3"
   ]
  },
  {
   "cell_type": "code",
   "execution_count": 219,
   "metadata": {},
   "outputs": [
    {
     "data": {
      "text/plain": [
       "array([9, 9, 9, ..., 8, 8, 8])"
      ]
     },
     "execution_count": 219,
     "metadata": {},
     "output_type": "execute_result"
    }
   ],
   "source": [
    "np.argmax(nn_predict(Theta1,Theta2,X_ex3data),axis=1)"
   ]
  },
  {
   "cell_type": "code",
   "execution_count": 232,
   "metadata": {},
   "outputs": [],
   "source": [
    "def nn_accuracy(theta1,theta2,x,y):\n",
    "    prediction = np.argmax(nn_predict(Theta1,Theta2,X_ex3data),axis=1) + 1\n",
    "    return np.mean(np.isclose(prediction,y))"
   ]
  },
  {
   "cell_type": "code",
   "execution_count": 233,
   "metadata": {},
   "outputs": [
    {
     "data": {
      "text/plain": [
       "0.9752"
      ]
     },
     "execution_count": 233,
     "metadata": {},
     "output_type": "execute_result"
    }
   ],
   "source": [
    "nn_accuracy(Theta1,Theta2,X_ex3data,y_ex3data)"
   ]
  },
  {
   "cell_type": "code",
   "execution_count": null,
   "metadata": {},
   "outputs": [],
   "source": []
  }
 ],
 "metadata": {
  "kernelspec": {
   "display_name": "Python 3",
   "language": "python",
   "name": "python3"
  },
  "language_info": {
   "codemirror_mode": {
    "name": "ipython",
    "version": 3
   },
   "file_extension": ".py",
   "mimetype": "text/x-python",
   "name": "python",
   "nbconvert_exporter": "python",
   "pygments_lexer": "ipython3",
   "version": "3.5.5"
  }
 },
 "nbformat": 4,
 "nbformat_minor": 2
}
