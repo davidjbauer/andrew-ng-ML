{
 "cells": [
  {
   "cell_type": "code",
   "execution_count": 335,
   "metadata": {},
   "outputs": [],
   "source": [
    "import numpy as np\n",
    "import scipy.optimize, scipy.io\n",
    "import matplotlib.pyplot as plt"
   ]
  },
  {
   "cell_type": "markdown",
   "metadata": {},
   "source": [
    "___Linear regression___\n",
    "\n",
    "Load provided data from from `.mat` file."
   ]
  },
  {
   "cell_type": "code",
   "execution_count": 336,
   "metadata": {},
   "outputs": [],
   "source": [
    "ex5data = scipy.io.loadmat(\"ex5data1.mat\")"
   ]
  },
  {
   "cell_type": "markdown",
   "metadata": {},
   "source": [
    "Data is given in three sets: training, test, and cross-validation."
   ]
  },
  {
   "cell_type": "code",
   "execution_count": 385,
   "metadata": {},
   "outputs": [
    {
     "name": "stdout",
     "output_type": "stream",
     "text": [
      "(12, 1)\n",
      "(21, 1)\n",
      "(21, 1)\n"
     ]
    }
   ],
   "source": [
    "X_train, y_train = ex5data['X'], ex5data['y'].ravel()\n",
    "X_test, y_test = ex5data['Xtest'], ex5data['ytest'].ravel()\n",
    "X_cv, y_cv = ex5data['Xval'], ex5data['yval'].ravel()\n",
    "print(X_train.shape)\n",
    "print(X_test.shape)\n",
    "print(X_cv.shape)"
   ]
  },
  {
   "cell_type": "markdown",
   "metadata": {},
   "source": [
    "Let's plot the training data."
   ]
  },
  {
   "cell_type": "code",
   "execution_count": 386,
   "metadata": {
    "scrolled": true
   },
   "outputs": [
    {
     "data": {
      "text/plain": [
       "<matplotlib.collections.PathCollection at 0x10e9cb048>"
      ]
     },
     "execution_count": 386,
     "metadata": {},
     "output_type": "execute_result"
    },
    {
     "data": {
      "image/png": "[encoded data removed]",
      "text/plain": [
       "<Figure size 432x288 with 1 Axes>"
      ]
     },
     "metadata": {},
     "output_type": "display_data"
    }
   ],
   "source": [
    "plt.scatter(X_train, y_train, color='red')"
   ]
  },
  {
   "cell_type": "markdown",
   "metadata": {},
   "source": [
    "Now we define our hypothesis $h_{\\theta}(X)$ and cost function $J(\\theta)$. We're doing linear regression with $L^2$ regularization, so $h(X) = \\sum_{a, b} X_{ab} \\theta_b \\hat{e}_a$, and the cost function is $J_{\\text{MSE}}(\\theta) = \\frac{1}{2m}\\sum_{a}(h(x_a)-y_a)^2 + \\frac{\\lambda}{2m}\\sum_{a>0} \\theta_a$."
   ]
  },
  {
   "cell_type": "code",
   "execution_count": 339,
   "metadata": {},
   "outputs": [],
   "source": [
    "def h(theta, X):\n",
    "    tmp_X = np.insert(X, 0, 1, axis=1)\n",
    "    return tmp_X.dot(theta)"
   ]
  },
  {
   "cell_type": "code",
   "execution_count": 340,
   "metadata": {},
   "outputs": [],
   "source": [
    "def J(theta, X, y, reg):\n",
    "    m = X.shape[0]\n",
    "    return 1/(2*m)*(np.linalg.norm(h(theta, X) - y))**2 + reg/(2*m)*(np.linalg.norm(theta[1:])**2)"
   ]
  },
  {
   "cell_type": "markdown",
   "metadata": {},
   "source": [
    "Check that we're getting the correct cost for the training data. (Should be 303.993)"
   ]
  },
  {
   "cell_type": "code",
   "execution_count": 387,
   "metadata": {},
   "outputs": [
    {
     "data": {
      "text/plain": [
       "303.99319222026423"
      ]
     },
     "execution_count": 387,
     "metadata": {},
     "output_type": "execute_result"
    }
   ],
   "source": [
    "J(np.ones(2), X_train, y_train, 1)"
   ]
  },
  {
   "cell_type": "markdown",
   "metadata": {},
   "source": [
    "Now we define the gradient of the cost function $\\nabla J$ and check its value. (Should be $\\begin{pmatrix}-15.30\\\\ 598.250\\end{pmatrix}$)."
   ]
  },
  {
   "cell_type": "code",
   "execution_count": 342,
   "metadata": {},
   "outputs": [],
   "source": [
    "def gradJ(theta, X, y, reg):\n",
    "    m = X.shape[0]\n",
    "    tmp_theta = np.copy(theta)\n",
    "    tmp_theta[0] = 0\n",
    "    tmp_X = np.insert(X, 0, 1, axis=1)\n",
    "    return 1/m*(tmp_X.transpose().dot(h(theta, X) - y)) + reg/m*tmp_theta"
   ]
  },
  {
   "cell_type": "code",
   "execution_count": 343,
   "metadata": {},
   "outputs": [
    {
     "data": {
      "text/plain": [
       "array([-15.30301567, 598.25074417])"
      ]
     },
     "execution_count": 343,
     "metadata": {},
     "output_type": "execute_result"
    }
   ],
   "source": [
    "gradJ(np.ones(2), X_train, y_train, 1)"
   ]
  },
  {
   "cell_type": "markdown",
   "metadata": {},
   "source": [
    "Now we can fit the model by minimizing $J$. We initialize $\\theta$ to $(1, 1)$, and set the regularization parameter $\\lambda=0$ to start."
   ]
  },
  {
   "cell_type": "code",
   "execution_count": 344,
   "metadata": {},
   "outputs": [
    {
     "name": "stdout",
     "output_type": "stream",
     "text": [
      "Optimization terminated successfully.\n",
      "         Current function value: 22.373906\n",
      "         Iterations: 18\n",
      "         Function evaluations: 28\n",
      "         Gradient evaluations: 28\n"
     ]
    }
   ],
   "source": [
    "theta_min = scipy.optimize.fmin_cg(lambda t: J(t, X_train, y_train, 0),\n",
    "                                   np.ones(2),\n",
    "                                   fprime=lambda t: gradJ(t, X_train, y_train, 0),\n",
    "                                  ) "
   ]
  },
  {
   "cell_type": "markdown",
   "metadata": {},
   "source": [
    "We plot our fit line with the data."
   ]
  },
  {
   "cell_type": "code",
   "execution_count": 345,
   "metadata": {},
   "outputs": [],
   "source": [
    "print(theta_min)\n",
    "x_plot = np.arange(-50, 40)\n",
    "y_plot = theta_min[0] + theta_min[1]*x_plot"
   ]
  },
  {
   "cell_type": "code",
   "execution_count": 346,
   "metadata": {},
   "outputs": [
    {
     "data": {
      "text/plain": [
       "[<matplotlib.lines.Line2D at 0x10e0ea1d0>]"
      ]
     },
     "execution_count": 346,
     "metadata": {},
     "output_type": "execute_result"
    },
    {
     "data": {
      "image/png": "[encoded data removed]",
      "text/plain": [
       "<Figure size 432x288 with 1 Axes>"
      ]
     },
     "metadata": {},
     "output_type": "display_data"
    }
   ],
   "source": [
    "plt.scatter(X_train, y_train, color='red')\n",
    "plt.plot(x_plot, y_plot, color='blue')"
   ]
  },
  {
   "cell_type": "markdown",
   "metadata": {},
   "source": [
    "___Learning curves___\n",
    "\n",
    "We can look at the training error when we train on different-sized subsets of the training data."
   ]
  },
  {
   "cell_type": "code",
   "execution_count": 419,
   "metadata": {},
   "outputs": [],
   "source": [
    "def plot_training_error(X, y, X_val, y_val):\n",
    "    m = X.shape[0]\n",
    "    training_error = []\n",
    "    cv_error = []\n",
    "    for i in range(1, m+1):\n",
    "        theta_star = scipy.optimize.fmin_cg(lambda t: J(t, X[0:i], y[0:i], 0),\n",
    "                                   np.ones(2),\n",
    "                                   fprime=lambda t: gradJ(t, X[0:i], y[0:i], 0),\n",
    "                                  disp = 0) \n",
    "        training_error.append(J(theta_star, X[0:i], y[0:i], 0))\n",
    "        cv_error.append(J(theta_star, X_val, y_val, 0))\n",
    "    x = np.arange(1, m+1)\n",
    "    plt.plot(x, training_error)\n",
    "    plt.plot(x, cv_error)\n",
    "        "
   ]
  },
  {
   "cell_type": "code",
   "execution_count": 421,
   "metadata": {},
   "outputs": [
    {
     "data": {
      "image/png": "[encoded data removed]",
      "text/plain": [
       "<Figure size 432x288 with 1 Axes>"
      ]
     },
     "metadata": {},
     "output_type": "display_data"
    }
   ],
   "source": [
    "plot_training_error(X_train, y_train, X_cv, y_cv)"
   ]
  },
  {
   "cell_type": "markdown",
   "metadata": {},
   "source": [
    "___Polynomial regression___\n",
    "\n",
    "Now we implement polynomial feature mapping, $x \\mapsto (x, x^2, \\ldots, x^p)$. We'll also need to normalize the monomial features."
   ]
  },
  {
   "cell_type": "code",
   "execution_count": 347,
   "metadata": {},
   "outputs": [],
   "source": [
    "def poly_features(X, p):\n",
    "    poly_X = copy.deepcopy(X)\n",
    "    for i in range(2, p+1):\n",
    "        poly_X = np.concatenate((poly_X, np.power(X, i)), axis=1)\n",
    "    return poly_X"
   ]
  },
  {
   "cell_type": "code",
   "execution_count": 348,
   "metadata": {},
   "outputs": [
    {
     "data": {
      "text/plain": [
       "1118460208.749629"
      ]
     },
     "execution_count": 348,
     "metadata": {},
     "output_type": "execute_result"
    }
   ],
   "source": [
    "J(np.ones(4), poly_features(X_train, 3), y_train, 0)"
   ]
  },
  {
   "cell_type": "code",
   "execution_count": 349,
   "metadata": {},
   "outputs": [],
   "source": [
    "def feature_normalize(X):\n",
    "    subtract_mean = lambda x: x - np.mean(x)\n",
    "    scale = lambda x: x/np.std(x)\n",
    "    X_normalized = np.apply_along_axis(subtract_mean, 0, X)\n",
    "    X_normalized = np.apply_along_axis(scale, 0, X_normalized)\n",
    "    return X_normalized"
   ]
  },
  {
   "cell_type": "code",
   "execution_count": 350,
   "metadata": {},
   "outputs": [
    {
     "data": {
      "text/plain": [
       "110.58321531946416"
      ]
     },
     "execution_count": 350,
     "metadata": {},
     "output_type": "execute_result"
    }
   ],
   "source": [
    "J(np.ones(4), feature_normalize(poly_features(X_train, 3)), y_train, 0)"
   ]
  },
  {
   "cell_type": "markdown",
   "metadata": {},
   "source": [
    "We transform our training data using this polynomial feature map."
   ]
  },
  {
   "cell_type": "code",
   "execution_count": 351,
   "metadata": {},
   "outputs": [
    {
     "data": {
      "text/plain": [
       "(12, 8)"
      ]
     },
     "execution_count": 351,
     "metadata": {},
     "output_type": "execute_result"
    }
   ],
   "source": [
    "X_poly_norm = feature_normalize(poly_features(X_train, 8))\n",
    "X_poly_norm.shape"
   ]
  },
  {
   "cell_type": "markdown",
   "metadata": {},
   "source": [
    "We'll do regularized linear regression using this polynomial model and compare results with different amounts of regularization. ($\\lambda = 0, 1, 100$)."
   ]
  },
  {
   "cell_type": "code",
   "execution_count": 367,
   "metadata": {},
   "outputs": [
    {
     "name": "stdout",
     "output_type": "stream",
     "text": [
      "Optimization terminated successfully.\n",
      "         Current function value: 0.028895\n",
      "         Iterations: 1601\n",
      "         Function evaluations: 3065\n",
      "         Gradient evaluations: 3065\n",
      "Optimization terminated successfully.\n",
      "         Current function value: 6.830463\n",
      "         Iterations: 26\n",
      "         Function evaluations: 45\n",
      "         Gradient evaluations: 45\n",
      "Optimization terminated successfully.\n",
      "         Current function value: 65.950955\n",
      "         Iterations: 9\n",
      "         Function evaluations: 18\n",
      "         Gradient evaluations: 18\n"
     ]
    }
   ],
   "source": [
    "theta_min_0 = scipy.optimize.fmin_cg(lambda t: J(t, X_poly_norm, y_train, 0),\n",
    "                                   np.ones(9),\n",
    "                                   fprime=lambda t: gradJ(t, X_poly_norm, y_train, 0),\n",
    "                                  ) \n",
    "theta_min_1= scipy.optimize.fmin_cg(lambda t: J(t, X_poly_norm, y_train, 1),\n",
    "                                   np.ones(9),\n",
    "                                   fprime=lambda t: gradJ(t, X_poly_norm, y_train, 1),\n",
    "                                  ) \n",
    "theta_min_100= scipy.optimize.fmin_cg(lambda t: J(t, X_poly_norm, y_train, 100),\n",
    "                                   np.ones(9),\n",
    "                                   fprime=lambda t: gradJ(t, X_poly_norm, y_train, 100),\n",
    "                                  ) "
   ]
  },
  {
   "cell_type": "code",
   "execution_count": 378,
   "metadata": {},
   "outputs": [],
   "source": [
    "x_plot0 = np.arange(-50, 40).reshape((90, 1))\n",
    "x_plot0 = np.insert(feature_normalize(poly_features(x_plot0, 8)), 0, 1, axis=1)\n",
    "y_plot0 = x_plot0.dot(theta_min_0)\n",
    "x_plot0 = np.arange(-50, 40)\n",
    "x_plot1 = np.arange(-50, 40).reshape((90, 1))\n",
    "x_plot1 = np.insert(feature_normalize(poly_features(x_plot1, 8)), 0, 1, axis=1)\n",
    "y_plot1 = x_plot1.dot(theta_min_1)\n",
    "x_plot1 = np.arange(-50, 40)\n",
    "x_plot100 = np.arange(-50, 40).reshape((90, 1))\n",
    "x_plot100 = np.insert(feature_normalize(poly_features(x_plot100, 8)), 0, 1, axis=1)\n",
    "y_plot100 = x_plot100.dot(theta_min_100)\n",
    "x_plot100 = np.arange(-50, 40)"
   ]
  },
  {
   "cell_type": "code",
   "execution_count": 391,
   "metadata": {},
   "outputs": [
    {
     "data": {
      "text/plain": [
       "Text(0.5,1,'8th order polynomial fit, $\\\\lambda=0$')"
      ]
     },
     "execution_count": 391,
     "metadata": {},
     "output_type": "execute_result"
    },
    {
     "data": {
      "image/png": "[encoded data removed]",
      "text/plain": [
       "<Figure size 432x288 with 1 Axes>"
      ]
     },
     "metadata": {},
     "output_type": "display_data"
    }
   ],
   "source": [
    "plt.scatter(X_train, y_train, color='red')\n",
    "plt.plot(x_plot0, y_plot0, color='blue')\n",
    "plt.title(r\"8th order polynomial fit, $\\lambda=0$\")"
   ]
  },
  {
   "cell_type": "code",
   "execution_count": 393,
   "metadata": {},
   "outputs": [
    {
     "data": {
      "text/plain": [
       "Text(0.5,1,'8th order polynomial fit, $\\\\lambda=1$')"
      ]
     },
     "execution_count": 393,
     "metadata": {},
     "output_type": "execute_result"
    },
    {
     "data": {
      "image/png": "[encoded data removed]",
      "text/plain": [
       "<Figure size 432x288 with 1 Axes>"
      ]
     },
     "metadata": {},
     "output_type": "display_data"
    }
   ],
   "source": [
    "plt.scatter(X_train, y_train, color='red')\n",
    "plt.plot(x_plot1, y_plot1, color='blue')\n",
    "plt.title(r\"8th order polynomial fit, $\\lambda=1$\")"
   ]
  },
  {
   "cell_type": "code",
   "execution_count": 392,
   "metadata": {},
   "outputs": [
    {
     "data": {
      "text/plain": [
       "Text(0.5,1,'8th order polynomial fit, $\\\\lambda=100$')"
      ]
     },
     "execution_count": 392,
     "metadata": {},
     "output_type": "execute_result"
    },
    {
     "data": {
      "image/png": "[encoded data removed]",
      "text/plain": [
       "<Figure size 432x288 with 1 Axes>"
      ]
     },
     "metadata": {},
     "output_type": "display_data"
    }
   ],
   "source": [
    "plt.scatter(X_train, y_train, color='red')\n",
    "plt.plot(x_plot100, y_plot100, color='blue')\n",
    "plt.title(r\"8th order polynomial fit, $\\lambda=100$\")"
   ]
  },
  {
   "cell_type": "markdown",
   "metadata": {},
   "source": [
    "The $\\lambda=0$ model overfits, the $\\lambda=100$ model underfits, but $\\lambda=1$ is Goldilocks."
   ]
  },
  {
   "cell_type": "markdown",
   "metadata": {},
   "source": []
  }
 ],
 "metadata": {
  "kernelspec": {
   "display_name": "Python 3",
   "language": "python",
   "name": "python3"
  },
  "language_info": {
   "codemirror_mode": {
    "name": "ipython",
    "version": 3
   },
   "file_extension": ".py",
   "mimetype": "text/x-python",
   "name": "python",
   "nbconvert_exporter": "python",
   "pygments_lexer": "ipython3",
   "version": "3.6.6"
  }
 },
 "nbformat": 4,
 "nbformat_minor": 2
}
