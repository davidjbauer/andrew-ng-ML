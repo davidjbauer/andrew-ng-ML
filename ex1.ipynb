{
 "cells": [
  {
   "cell_type": "code",
   "execution_count": 58,
   "metadata": {},
   "outputs": [],
   "source": [
    "import numpy as np\n",
    "import matplotlib.pyplot as plt\n",
    "import pandas as pd"
   ]
  },
  {
   "cell_type": "code",
   "execution_count": 75,
   "metadata": {},
   "outputs": [],
   "source": [
    "ex1data1 = pd.read_csv(\"ex1/ex1data1.txt\", header=None, names=['population','profit'])\n",
    "ex1data2 = pd.read_csv(\"ex1/ex1data2.txt\",header=None,names=['sqft','bedrooms','price'])\n",
    "ex1data1['intercept']=1\n",
    "ex1data2['intercept']=1"
   ]
  },
  {
   "cell_type": "code",
   "execution_count": 80,
   "metadata": {},
   "outputs": [],
   "source": [
    "num_samples = ex1data1.shape[0]\n",
    "num_samples_multi = ex1data2.shape[0]"
   ]
  },
  {
   "cell_type": "markdown",
   "metadata": {},
   "source": [
    "Define the hypothesis function $h(\\boldsymbol{\\theta},x) = \\theta_0 + \\theta_1 x$ and cost function $J(\\theta) = \\frac{1}{2m}\\sum_i^m (h(\\theta,x^{i})-y^{i})^2$"
   ]
  },
  {
   "cell_type": "code",
   "execution_count": 67,
   "metadata": {},
   "outputs": [],
   "source": [
    "X_array = ex1data1['population'].values\n",
    "y_array = ex1data1['profit'].values\n",
    "\n",
    "def hypothesis(theta,X):\n",
    "    return theta[0] + theta[1]*X\n",
    "\n",
    "def cost(theta):\n",
    "    return 1/(2*num_samples)*np.sum(np.power(hypothesis(theta, X_array) - y_array,2))"
   ]
  },
  {
   "cell_type": "code",
   "execution_count": 74,
   "metadata": {
    "scrolled": true
   },
   "outputs": [
    {
     "data": {
      "text/plain": [
       "32.072733877455676"
      ]
     },
     "execution_count": 74,
     "metadata": {},
     "output_type": "execute_result"
    }
   ],
   "source": [
    "cost([0,0])"
   ]
  },
  {
   "cell_type": "markdown",
   "metadata": {},
   "source": [
    "Given samples of feature $X$ and output $y$, minimize cost function using gradient descent to predict parameter vector. Gradient descent runs for `iters` interations with learning rate $\\alpha$. Returns parameter vector $(\\theta_0,\\theta_1)$"
   ]
  },
  {
   "cell_type": "code",
   "execution_count": 70,
   "metadata": {},
   "outputs": [],
   "source": [
    "cost_array = []\n",
    "def gradient_descent(iters,alpha,theta_start,X,y):\n",
    "    theta_current = theta_start\n",
    "    for j in range(iters):\n",
    "        error = hypothesis(theta_current,X)-y\n",
    "        theta_current[0] = theta_current[0] - (alpha/num_samples)*np.sum(error)\n",
    "        theta_current[1] = theta_current[1] - (alpha/num_samples)*np.dot(error,X_array)\n",
    "        cost_array.append(cost(theta_current))\n",
    "    return theta_current"
   ]
  },
  {
   "cell_type": "code",
   "execution_count": 71,
   "metadata": {},
   "outputs": [],
   "source": [
    "theta_predict = gradient_descent(5000,0.01,np.zeros((2,1)))"
   ]
  },
  {
   "cell_type": "code",
   "execution_count": 72,
   "metadata": {},
   "outputs": [
    {
     "data": {
      "text/plain": [
       "<matplotlib.collections.PathCollection at 0x10db98278>"
      ]
     },
     "execution_count": 72,
     "metadata": {},
     "output_type": "execute_result"
    },
    {
     "data": {
      "image/png": "[encoded data removed]",
      "text/plain": [
       "<Figure size 432x288 with 1 Axes>"
      ]
     },
     "metadata": {},
     "output_type": "display_data"
    }
   ],
   "source": [
    "plt.plot(X_array,hypothesis(theta_predict,X_array),color='red')\n",
    "plt.scatter(X_array,y_array,color='blue')"
   ]
  },
  {
   "cell_type": "code",
   "execution_count": 73,
   "metadata": {},
   "outputs": [
    {
     "data": {
      "text/plain": [
       "[<matplotlib.lines.Line2D at 0x10dc2ca20>]"
      ]
     },
     "execution_count": 73,
     "metadata": {},
     "output_type": "execute_result"
    },
    {
     "data": {
      "image/png": "[encoded data removed]",
      "text/plain": [
       "<Figure size 432x288 with 1 Axes>"
      ]
     },
     "metadata": {},
     "output_type": "display_data"
    }
   ],
   "source": [
    "plt.plot(cost_array)"
   ]
  },
  {
   "cell_type": "markdown",
   "metadata": {},
   "source": [
    "Now we implement feature normalization. Given a feature matrix $X$, we want to normalize each column by subtracting the column mean and dividing by the column standard deviation."
   ]
  },
  {
   "cell_type": "code",
   "execution_count": 85,
   "metadata": {},
   "outputs": [],
   "source": [
    "def feature_normalize(X):\n",
    "    subtract_mean = lambda x: x - np.mean(x)\n",
    "    scale = lambda x: x/np.std(x)\n",
    "    X_normalized = np.apply_along_axis(subtract_mean,0,X)\n",
    "    X_normalized = np.apply_along_axis(scale,0,X_normalized)\n",
    "    return X_normalized"
   ]
  },
  {
   "cell_type": "code",
   "execution_count": 86,
   "metadata": {},
   "outputs": [
    {
     "data": {
      "text/plain": [
       "array([-0.53240565, -0.68368294,  0.09319761, -0.30042464, -0.5974206 ,\n",
       "        0.0579498 , -0.17751184,  0.10865262, -0.4347144 , -0.80656976,\n",
       "       -0.63614904,  1.55957946, -0.63009691,  0.06457337, -0.6543314 ,\n",
       "       -0.72220358, -0.46609197, -0.78695878, -0.44941614, -0.28286567,\n",
       "       -0.51188555,  3.14560127, -0.69344947, -0.47630007, -0.67402031,\n",
       "        2.80143506,  1.21255602,  0.72656735,  1.30294835,  3.64769432,\n",
       "       -0.75519159, -0.40790839,  0.28270982, -0.58910866,  0.01332508,\n",
       "       -0.05880697, -0.0165979 , -0.66326674,  1.214634  , -0.46920894,\n",
       "       -0.71506051, -0.33177623,  0.92163816, -0.61978491, -0.08704158,\n",
       "       -0.27707328, -0.80251769, -0.61258989,  0.91956017, -0.68007244,\n",
       "       -0.16093991, -0.74082752, -0.19114862, -0.14460176, -0.47455975,\n",
       "       -0.46778033, -0.48978099, -0.65459115,  0.2988142 ,  0.33606207,\n",
       "        0.17288833, -0.77417917,  3.40768709,  1.75283204,  2.80507153,\n",
       "       -0.2445788 ,  0.03514392,  0.53928898, -0.69103381,  3.16404339,\n",
       "        0.51331417, -0.2143701 , -0.55939348, -0.24257874, -0.81376478,\n",
       "       -0.41868794, -0.16135551, -0.8112712 ,  0.5491594 , -0.79277713,\n",
       "       -0.6313437 , -0.77181546, -0.46861152,  0.4179087 , -0.42699988,\n",
       "        0.09283397,  0.26504695, -0.56048442, -0.6855791 , -0.80532297,\n",
       "       -0.63692828, -0.1359002 , -0.59458934, -0.74142494,  0.03470234,\n",
       "        1.35957343, -0.70726806])"
      ]
     },
     "execution_count": 86,
     "metadata": {},
     "output_type": "execute_result"
    }
   ],
   "source": [
    "feature_normalize(X_array)"
   ]
  },
  {
   "cell_type": "code",
   "execution_count": 87,
   "metadata": {},
   "outputs": [
    {
     "data": {
      "text/plain": [
       "<matplotlib.collections.PathCollection at 0x10dd0a4a8>"
      ]
     },
     "execution_count": 87,
     "metadata": {},
     "output_type": "execute_result"
    },
    {
     "data": {
      "image/png": "[encoded data removed]",
      "text/plain": [
       "<Figure size 432x288 with 1 Axes>"
      ]
     },
     "metadata": {},
     "output_type": "display_data"
    }
   ],
   "source": [
    "plt.scatter(feature_normalize(X_array),y_array)"
   ]
  }
 ],
 "metadata": {
  "kernelspec": {
   "display_name": "Python 3",
   "language": "python",
   "name": "python3"
  },
  "language_info": {
   "codemirror_mode": {
    "name": "ipython",
    "version": 3
   },
   "file_extension": ".py",
   "mimetype": "text/x-python",
   "name": "python",
   "nbconvert_exporter": "python",
   "pygments_lexer": "ipython3",
   "version": "3.5.5"
  }
 },
 "nbformat": 4,
 "nbformat_minor": 2
}
